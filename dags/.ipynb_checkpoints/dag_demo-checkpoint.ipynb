{
 "cells": [
  {
   "cell_type": "code",
   "execution_count": 1,
   "id": "62a4e8e3-9b16-4b5d-b266-674cc8c51e58",
   "metadata": {},
   "outputs": [
    {
     "name": "stderr",
     "output_type": "stream",
     "text": [
      "C:\\Users\\Srushti Pednekar\\AppData\\Local\\Programs\\Python\\Python312\\Lib\\site-packages\\airflow\\__init__.py:36: RuntimeWarning: Airflow currently can be run on POSIX-compliant Operating Systems. For development, it is regularly tested on fairly modern Linux Distros and recent versions of macOS. On Windows you can run it via WSL2 (Windows Subsystem for Linux 2) or via Linux Containers. The work to add Windows support is tracked via https://github.com/apache/airflow/issues/10388, but it is not a high priority.\n",
      "  warnings.warn(\n",
      "OSError while attempting to symlink the latest log directory\n"
     ]
    },
    {
     "data": {
      "text/html": [
       "<pre style=\"white-space:pre;overflow-x:auto;line-height:normal;font-family:Menlo,'DejaVu Sans Mono',consolas,'Courier New',monospace\"><span style=\"color: #808000; text-decoration-color: #808000; font-weight: bold\">C:\\Users\\Srushti Pednekar\\AppData\\Local\\Temp\\ipykernel_2956\\</span><span style=\"color: #808000; text-decoration-color: #808000; font-weight: bold\">1352221320.</span><span style=\"color: #808000; text-decoration-color: #808000; font-weight: bold\">py:</span><span style=\"color: #808000; text-decoration-color: #808000; font-weight: bold\">8</span><span style=\"color: #808000; text-decoration-color: #808000; font-weight: bold\"> DeprecationWarning</span><span style=\"color: #808000; text-decoration-color: #808000\">: The `airflow.hooks.base_hook.BaseHook` class is deprecated. Please use `</span><span style=\"color: #808000; text-decoration-color: #808000\">'airflow.hooks.base.BaseHook'</span><span style=\"color: #808000; text-decoration-color: #808000\">`.</span>\n",
       "</pre>\n"
      ],
      "text/plain": [
       "\u001b[1;33mC:\\Users\\Srushti Pednekar\\AppData\\Local\\Temp\\ipykernel_2956\\\u001b[0m\u001b[1;33m1352221320.\u001b[0m\u001b[1;33mpy:\u001b[0m\u001b[1;33m8\u001b[0m\u001b[1;33m DeprecationWarning\u001b[0m\u001b[33m: The `airflow.hooks.base_hook.BaseHook` class is deprecated. Please use `\u001b[0m\u001b[33m'airflow.hooks.base.BaseHook'\u001b[0m\u001b[33m`.\u001b[0m\n"
      ]
     },
     "metadata": {},
     "output_type": "display_data"
    },
    {
     "data": {
      "text/html": [
       "<pre style=\"white-space:pre;overflow-x:auto;line-height:normal;font-family:Menlo,'DejaVu Sans Mono',consolas,'Courier New',monospace\"><span style=\"color: #808000; text-decoration-color: #808000; font-weight: bold\">C:\\Users\\Srushti Pednekar\\AppData\\Local\\Temp\\ipykernel_2956\\</span><span style=\"color: #808000; text-decoration-color: #808000; font-weight: bold\">1352221320.</span><span style=\"color: #808000; text-decoration-color: #808000; font-weight: bold\">py:</span><span style=\"color: #808000; text-decoration-color: #808000; font-weight: bold\">111</span><span style=\"color: #808000; text-decoration-color: #808000; font-weight: bold\"> RemovedInAirflow3Warning</span><span style=\"color: #808000; text-decoration-color: #808000\">: Param `schedule_interval` is deprecated and will be removed in a future release. Please use `schedule` instead.</span>\n",
       "</pre>\n"
      ],
      "text/plain": [
       "\u001b[1;33mC:\\Users\\Srushti Pednekar\\AppData\\Local\\Temp\\ipykernel_2956\\\u001b[0m\u001b[1;33m1352221320.\u001b[0m\u001b[1;33mpy:\u001b[0m\u001b[1;33m111\u001b[0m\u001b[1;33m RemovedInAirflow3Warning\u001b[0m\u001b[33m: Param `schedule_interval` is deprecated and will be removed in a future release. Please use `schedule` instead.\u001b[0m\n"
      ]
     },
     "metadata": {},
     "output_type": "display_data"
    },
    {
     "data": {
      "text/plain": [
       "<Task(PythonOperator): fetch_and_insert_news_all_countries>"
      ]
     },
     "execution_count": 1,
     "metadata": {},
     "output_type": "execute_result"
    }
   ],
   "source": [
    "from airflow import DAG\n",
    "from airflow.operators.python import PythonOperator\n",
    "from airflow.providers.snowflake.operators.snowflake import SnowflakeOperator\n",
    "from datetime import datetime, timedelta\n",
    "import pandas as pd\n",
    "from gdeltdoc import GdeltDoc, Filters\n",
    "import snowflake.connector\n",
    "from airflow.hooks.base_hook import BaseHook\n",
    "import time\n",
    "\n",
    "# Function to fetch news articles for a given date range and country\n",
    "def fetch_and_insert_news_for_countries(countries, start_date, end_date, **kwargs):\n",
    "    # Initialize GDELT client\n",
    "    gd = GdeltDoc()\n",
    "    # Fetch Snowflake connection details\n",
    "    snowflake_conn_id = 'snowflake_con'\n",
    "    snowflake_conn = BaseHook.get_connection(snowflake_conn_id)\n",
    "    # Snowflake connection parameters\n",
    "    account = \"pdfhwro-uc15394\"\n",
    "    user = snowflake_conn.login\n",
    "    password = snowflake_conn.password\n",
    "    warehouse = snowflake_conn.extra_dejson.get('warehouse', 'COMPUTE_WH')\n",
    "    database = \"PROJECT\"\n",
    "    schema = \"PROJECT_SCHEMA\"\n",
    "    role = snowflake_conn.extra_dejson.get('role', 'ACCOUNTADMIN')\n",
    "    insert_query = \"\"\"\n",
    "    INSERT INTO PROJECT.PROJECT_SCHEMA.NEWS_DATA2\n",
    "    (URL, URL_MOBILE, TITLE, SEENDATE, SOCIALIMAGE, DOMAIN, LANGUAGE, SOURCECOUNTRY)\n",
    "    VALUES (%s, %s, %s, %s, %s, %s, %s, %s);\n",
    "    \"\"\"\n",
    "    try:\n",
    "        with snowflake.connector.connect(\n",
    "            user=user,\n",
    "            password=password,\n",
    "            account=account,\n",
    "            warehouse=warehouse,\n",
    "            database=database,\n",
    "            schema=schema,\n",
    "            role=role,\n",
    "        ) as conn:\n",
    "            cursor = conn.cursor()\n",
    "            for country in countries:\n",
    "                print(f\"Processing news for country: {country}\")\n",
    "                current_date = datetime.strptime(start_date, \"%Y-%m-%d\")\n",
    "                end_date_dt = datetime.strptime(end_date, \"%Y-%m-%d\")\n",
    "                while current_date <= end_date_dt:\n",
    "                    time.sleep(1)\n",
    "                    next_day = current_date + timedelta(days=1)\n",
    "                    filters = Filters(\n",
    "                        keyword=[\"currency\", \"forex\", \"finance\", \"disease\", \"war\", \"election\",\n",
    "                                 \"pandemic\", \"inflation\", \"bank\", \"trade\", \"treaty\"],\n",
    "                        start_date=current_date.strftime(\"%Y-%m-%d\"),\n",
    "                        end_date=next_day.strftime(\"%Y-%m-%d\"),\n",
    "                        country=country,\n",
    "                    )\n",
    "                    try:\n",
    "                        print(f\"Fetching news from {current_date.strftime('%Y-%m-%d')} to {next_day.strftime('%Y-%m-%d')} for {country}...\")\n",
    "                        articles = gd.article_search(filters)\n",
    "                        \n",
    "                        if not articles.empty:\n",
    "                            articles = articles.fillna('')\n",
    "                            # for _, row in articles.iterrows():\n",
    "                            #     cursor.execute(insert_query, (\n",
    "                            #         row.get('url', ''),\n",
    "                            #         row.get('url_mobile', ''),\n",
    "                            #         row.get('title', ''),\n",
    "                            #         row.get('seendate', ''),\n",
    "                            #         row.get('socialimage', ''),\n",
    "                            #         row.get('domain', ''),\n",
    "                            #         row.get('language', ''),\n",
    "                            #         row.get('sourcecountry', '')\n",
    "                            #     ))\n",
    "                          \n",
    "                            articles_to_insert = []\n",
    "                            for _, row in articles.iterrows():\n",
    "                                articles_to_insert.append((\n",
    "                                    row.get('url', ''),\n",
    "                                    row.get('url_mobile', ''),\n",
    "                                    row.get('title', ''),\n",
    "                                    row.get('seendate', ''),\n",
    "                                    row.get('socialimage', ''),\n",
    "                                    row.get('domain', ''),\n",
    "                                    row.get('language', ''),\n",
    "                                    row.get('sourcecountry', '')\n",
    "                                ))\n",
    "                            \n",
    "                          \n",
    "                            cursor.executemany(insert_query, articles_to_insert)\n",
    "                            articles_to_insert = []  # Reset the list\n",
    "                            print(f\"Inserted {len(articles)} articles into Snowflake table 'DEMO_NEWS' for {country}.\")\n",
    "                        else:\n",
    "                            print(f\"No valid articles found for date: {current_date.strftime('%Y-%m-%d')} and country: {country}.\")\n",
    "                    except Exception as e:\n",
    "                        print(f\"Error fetching data from {start_date} to {end_date}: {e}\")\n",
    "                    current_date = next_day\n",
    "                    # Pause every 30th day to avoid overwhelming GDELT or Snowflake\n",
    "                    if current_date.day == 30:\n",
    "                        time.sleep(5)\n",
    "    except Exception as e:\n",
    "        print(f\"Error inserting data into Snowflake: {e}\")\n",
    "\n",
    "# Default arguments for the DAG\n",
    "default_args = {\n",
    "    'owner': 'srush',\n",
    "    'depends_on_past': False,\n",
    "    'retries': 1,\n",
    "    'retry_delay': timedelta(minutes=5),\n",
    "}\n",
    "\n",
    "# Define the DAG\n",
    "with DAG(\n",
    "    'fetch_and_insert_all_countries_news_1',\n",
    "    default_args=default_args,\n",
    "    description='Fetch news from GDELT for 01-01-2020 to 18-12-2024 for multiple countries and insert into Snowflake',\n",
    "    schedule_interval=None,\n",
    "    start_date=datetime(2024, 12, 18),\n",
    "    catchup=False,\n",
    ") as dag:\n",
    "    fetch_and_insert_all_countries_task = PythonOperator(\n",
    "        task_id='fetch_and_insert_news',\n",
    "        python_callable=fetch_and_insert_news_for_countries,\n",
    "        op_kwargs={\n",
    "            'countries': [ 'CH', 'JA', 'NZ', 'SZ', 'RS'],\n",
    "            'start_date': '2020-03-10',\n",
    "            'end_date': '2024-12-18',\n",
    "        },\n",
    "    )\n",
    "\n",
    "fetch_and_insert_all_countries_task\n"
   ]
  },
  {
   "cell_type": "code",
   "execution_count": null,
   "id": "d6904fab-45b8-49ec-b88f-85075e5fce45",
   "metadata": {},
   "outputs": [],
   "source": []
  }
 ],
 "metadata": {
  "kernelspec": {
   "display_name": "Python 3 (ipykernel)",
   "language": "python",
   "name": "python3"
  },
  "language_info": {
   "codemirror_mode": {
    "name": "ipython",
    "version": 3
   },
   "file_extension": ".py",
   "mimetype": "text/x-python",
   "name": "python",
   "nbconvert_exporter": "python",
   "pygments_lexer": "ipython3",
   "version": "3.12.8"
  }
 },
 "nbformat": 4,
 "nbformat_minor": 5
}
